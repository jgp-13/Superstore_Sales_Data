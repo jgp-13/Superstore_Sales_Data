{
 "cells": [
  {
   "cell_type": "code",
   "execution_count": 1,
   "id": "bfb97ca9-c2ab-41d8-9370-585da6846adc",
   "metadata": {},
   "outputs": [],
   "source": [
    "import os\n",
    "flag=0"
   ]
  },
  {
   "cell_type": "code",
   "execution_count": 2,
   "id": "c290239d-3908-49d6-8c6b-c58483ce21f4",
   "metadata": {},
   "outputs": [
    {
     "data": {
      "text/plain": [
       "'flag = 1'"
      ]
     },
     "metadata": {},
     "output_type": "display_data"
    },
    {
     "data": {
      "text/plain": [
       "'C:\\\\Users\\\\josue\\\\Documents\\\\Python\\\\projects\\\\SuperStore_Sales\\\\notebooks'"
      ]
     },
     "metadata": {},
     "output_type": "display_data"
    },
    {
     "data": {
      "text/plain": [
       "'nb dir = C:\\\\Users\\\\josue\\\\Documents\\\\Python\\\\projects\\\\SuperStore_Sales\\\\notebooks'"
      ]
     },
     "metadata": {},
     "output_type": "display_data"
    },
    {
     "data": {
      "text/plain": [
       "'Proj dir = C:\\\\Users\\\\josue\\\\Documents\\\\Python\\\\projects\\\\SuperStore_Sales'"
      ]
     },
     "metadata": {},
     "output_type": "display_data"
    }
   ],
   "source": [
    "if flag==0:\n",
    "    display('flag = 0')\n",
    "    display(os.getcwd())\n",
    "    nb_dir = os.getcwd()\n",
    "    display('nb dir = '+nb_dir)\n",
    "    temp = os.chdir('..')\n",
    "    proj_dir = os.getcwd()\n",
    "    display('Proj dir = '+ proj_dir )\n",
    "    nb_dir   = proj_dir + '\\\\notebooks'\n",
    "    data_dir = proj_dir + '\\\\data'\n",
    "    print(  \"\n",
    "        Project dir:\n",
    "        Notebook dir:\n",
    "        Data dir:\n",
    "        \n",
    "             \n",
    "            \"\n",
    "    flag=1"
   ]
  },
  {
   "cell_type": "code",
   "execution_count": 7,
   "id": "62881702-256b-4eff-92b4-48d57943984d",
   "metadata": {},
   "outputs": [
    {
     "data": {
      "text/plain": [
       "'C:\\\\Users\\\\josue\\\\Documents\\\\Python\\\\projects\\\\SuperStore_Sales'"
      ]
     },
     "metadata": {},
     "output_type": "display_data"
    }
   ],
   "source": [
    "display(proj_dir)"
   ]
  },
  {
   "cell_type": "code",
   "execution_count": 8,
   "id": "973ef391-34fb-402e-9d20-5491f7eb9db6",
   "metadata": {},
   "outputs": [
    {
     "data": {
      "text/plain": [
       "'C:\\\\Users\\\\josue\\\\Documents\\\\Python\\\\projects'"
      ]
     },
     "execution_count": 8,
     "metadata": {},
     "output_type": "execute_result"
    }
   ],
   "source": [
    "displayos.getcwd()"
   ]
  },
  {
   "cell_type": "code",
   "execution_count": 5,
   "id": "102db47e-82c3-4c30-b1d8-4bcaf6d72b25",
   "metadata": {},
   "outputs": [
    {
     "name": "stdout",
     "output_type": "stream",
     "text": [
      "C:\\Users\\josue\\Documents\\Python\\projects\\SuperStore_Sales\n",
      "<class 'NoneType'>\n"
     ]
    }
   ],
   "source": [
    "path = os.getcwd()\n",
    "\n",
    "print(path)\n",
    "print(type(temp))"
   ]
  },
  {
   "cell_type": "code",
   "execution_count": 6,
   "id": "699e10c8-f59c-4177-bc55-9be0f2c293ed",
   "metadata": {},
   "outputs": [
    {
     "name": "stdout",
     "output_type": "stream",
     "text": [
      "C:\\Users\\josue\\Documents\\Python\\projects\n"
     ]
    }
   ],
   "source": [
    "os.chdir('..')\n",
    "\n",
    "print(os.getcwd())"
   ]
  },
  {
   "cell_type": "code",
   "execution_count": null,
   "id": "0e7fdf19-1373-43b7-b8f3-c107c518b43f",
   "metadata": {},
   "outputs": [],
   "source": []
  }
 ],
 "metadata": {
  "kernelspec": {
   "display_name": "Python 3 (ipykernel)",
   "language": "python",
   "name": "python3"
  },
  "language_info": {
   "codemirror_mode": {
    "name": "ipython",
    "version": 3
   },
   "file_extension": ".py",
   "mimetype": "text/x-python",
   "name": "python",
   "nbconvert_exporter": "python",
   "pygments_lexer": "ipython3",
   "version": "3.11.10"
  }
 },
 "nbformat": 4,
 "nbformat_minor": 5
}
