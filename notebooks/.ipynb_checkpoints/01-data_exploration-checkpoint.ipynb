{
 "cells": [
  {
   "cell_type": "markdown",
   "id": "8a04bd3e-125b-4fbe-a2ea-864a856ab2b3",
   "metadata": {},
   "source": [
    "# **Superstore Sales Data Cleaning**\n",
    "\n",
    "This repository contains a project for cleaning and transforming a messy **Superstore Sales Data** dataset. The dataset includes sales records from a retail business and may contain issues such as missing values, duplicates, and inconsistent formatting, which were addressed to prepare the data for analysis and visualization."
   ]
  },
  {
   "cell_type": "markdown",
   "id": "97175ee8-c463-4523-b738-4d4e8edcd3e1",
   "metadata": {},
   "source": [
    "## Package Importing\n",
    "\n",
    "To begin, we import the necessary Python packages required for data exploration and cleaning.\n"
   ]
  },
  {
   "cell_type": "code",
   "execution_count": 1,
   "id": "7400b218-9f46-4779-baa8-6483d3ac2174",
   "metadata": {},
   "outputs": [],
   "source": [
    "# In notebook (01-data_exploration.ipynb)\n",
    "import pandas as pd\n",
    "import sys\n",
    "import os\n",
    "import numpy as np"
   ]
  },
  {
   "cell_type": "markdown",
   "id": "72395bec-da0a-4681-abaf-5f8ed1524600",
   "metadata": {},
   "source": [
    "We also configure the environment to ensure the project directory is accessible."
   ]
  },
  {
   "cell_type": "code",
   "execution_count": 2,
   "id": "5457bd4d-d4d5-4fbb-8fc5-82bba12c3245",
   "metadata": {},
   "outputs": [],
   "source": [
    "# Add the parent directory to sys.path\n",
    "sys.path.append(os.path.abspath(os.path.join(os.getcwd(), '..')))\n",
    "\n",
    "from superstore_sales.config import RAW_DATA_FILE\n",
    "import pandas as pd\n",
    "\n",
    "df_raw = pd.read_csv(RAW_DATA_FILE, encoding='ISO-8859-1')\n",
    "df_clean = df_raw.copy()"
   ]
  },
  {
   "cell_type": "markdown",
   "id": "7660529b-6e0f-4bb5-bdec-d5720b4a826e",
   "metadata": {},
   "source": [
    "## Initial Data Exploration\n",
    "\n",
    "To understand the dataset, we first examine its structure and content.\n",
    "\n",
    "### Checking Data Structure"
   ]
  },
  {
   "cell_type": "code",
   "execution_count": 3,
   "id": "27931c3e-4c94-465c-90b8-b44cfaec69b9",
   "metadata": {},
   "outputs": [
    {
     "name": "stdout",
     "output_type": "stream",
     "text": [
      "<class 'pandas.core.frame.DataFrame'>\n",
      "RangeIndex: 9994 entries, 0 to 9993\n",
      "Data columns (total 21 columns):\n",
      " #   Column         Non-Null Count  Dtype  \n",
      "---  ------         --------------  -----  \n",
      " 0   Row ID         9994 non-null   int64  \n",
      " 1   Order ID       9994 non-null   object \n",
      " 2   Order Date     9994 non-null   object \n",
      " 3   Ship Date      9994 non-null   object \n",
      " 4   Ship Mode      9994 non-null   object \n",
      " 5   Customer ID    9994 non-null   object \n",
      " 6   Customer Name  9994 non-null   object \n",
      " 7   Segment        9994 non-null   object \n",
      " 8   Country        9994 non-null   object \n",
      " 9   City           9994 non-null   object \n",
      " 10  State          9994 non-null   object \n",
      " 11  Postal Code    9994 non-null   int64  \n",
      " 12  Region         9994 non-null   object \n",
      " 13  Product ID     9994 non-null   object \n",
      " 14  Category       9994 non-null   object \n",
      " 15  Sub-Category   9994 non-null   object \n",
      " 16  Product Name   9994 non-null   object \n",
      " 17  Sales          9994 non-null   float64\n",
      " 18  Quantity       9994 non-null   int64  \n",
      " 19  Discount       9994 non-null   float64\n",
      " 20  Profit         9994 non-null   float64\n",
      "dtypes: float64(3), int64(3), object(15)\n",
      "memory usage: 1.6+ MB\n"
     ]
    }
   ],
   "source": [
    "df_raw.info()"
   ]
  },
  {
   "cell_type": "markdown",
   "id": "8fa5b72b-fcd7-4727-a0ec-daf9963e6aa2",
   "metadata": {},
   "source": [
    "### Initial Observations\n",
    "\n",
    "- There are no null values in the dataset.\n",
    "- Some columns require a data type change:\n",
    "  - Numerical values stored as `object` should be converted to `int` or `float`.\n",
    "  - Date columns should be converted to `datetime`.\n",
    "  - Categorical variables can be optimised using the `category` type."
   ]
  },
  {
   "cell_type": "code",
   "execution_count": 4,
   "id": "2229ff49-47d2-4c78-9ecc-20a7c5b298a1",
   "metadata": {},
   "outputs": [
    {
     "data": {
      "text/html": [
       "<div>\n",
       "<style scoped>\n",
       "    .dataframe tbody tr th:only-of-type {\n",
       "        vertical-align: middle;\n",
       "    }\n",
       "\n",
       "    .dataframe tbody tr th {\n",
       "        vertical-align: top;\n",
       "    }\n",
       "\n",
       "    .dataframe thead th {\n",
       "        text-align: right;\n",
       "    }\n",
       "</style>\n",
       "<table border=\"1\" class=\"dataframe\">\n",
       "  <thead>\n",
       "    <tr style=\"text-align: right;\">\n",
       "      <th></th>\n",
       "      <th>Row ID</th>\n",
       "      <th>Order ID</th>\n",
       "      <th>Order Date</th>\n",
       "      <th>Ship Date</th>\n",
       "      <th>Ship Mode</th>\n",
       "      <th>Customer ID</th>\n",
       "      <th>Customer Name</th>\n",
       "      <th>Segment</th>\n",
       "      <th>Country</th>\n",
       "    </tr>\n",
       "  </thead>\n",
       "  <tbody>\n",
       "    <tr>\n",
       "      <th>7237</th>\n",
       "      <td>7238</td>\n",
       "      <td>CA-2016-164924</td>\n",
       "      <td>7/10/2016</td>\n",
       "      <td>7/10/2016</td>\n",
       "      <td>Same Day</td>\n",
       "      <td>EA-14035</td>\n",
       "      <td>Erin Ashbrook</td>\n",
       "      <td>Corporate</td>\n",
       "      <td>United States</td>\n",
       "    </tr>\n",
       "    <tr>\n",
       "      <th>8118</th>\n",
       "      <td>8119</td>\n",
       "      <td>US-2017-106551</td>\n",
       "      <td>7/22/2017</td>\n",
       "      <td>7/27/2017</td>\n",
       "      <td>Standard Class</td>\n",
       "      <td>EB-13930</td>\n",
       "      <td>Eric Barreto</td>\n",
       "      <td>Consumer</td>\n",
       "      <td>United States</td>\n",
       "    </tr>\n",
       "    <tr>\n",
       "      <th>2385</th>\n",
       "      <td>2386</td>\n",
       "      <td>US-2017-117534</td>\n",
       "      <td>3/25/2017</td>\n",
       "      <td>3/26/2017</td>\n",
       "      <td>First Class</td>\n",
       "      <td>CV-12295</td>\n",
       "      <td>Christina VanderZanden</td>\n",
       "      <td>Consumer</td>\n",
       "      <td>United States</td>\n",
       "    </tr>\n",
       "    <tr>\n",
       "      <th>4421</th>\n",
       "      <td>4422</td>\n",
       "      <td>CA-2014-117016</td>\n",
       "      <td>3/4/2014</td>\n",
       "      <td>3/9/2014</td>\n",
       "      <td>Standard Class</td>\n",
       "      <td>SC-20095</td>\n",
       "      <td>Sanjit Chand</td>\n",
       "      <td>Consumer</td>\n",
       "      <td>United States</td>\n",
       "    </tr>\n",
       "    <tr>\n",
       "      <th>6105</th>\n",
       "      <td>6106</td>\n",
       "      <td>CA-2015-147011</td>\n",
       "      <td>6/18/2015</td>\n",
       "      <td>6/22/2015</td>\n",
       "      <td>Standard Class</td>\n",
       "      <td>HR-14830</td>\n",
       "      <td>Harold Ryan</td>\n",
       "      <td>Corporate</td>\n",
       "      <td>United States</td>\n",
       "    </tr>\n",
       "  </tbody>\n",
       "</table>\n",
       "</div>"
      ],
      "text/plain": [
       "      Row ID        Order ID Order Date  Ship Date       Ship Mode  \\\n",
       "7237    7238  CA-2016-164924  7/10/2016  7/10/2016        Same Day   \n",
       "8118    8119  US-2017-106551  7/22/2017  7/27/2017  Standard Class   \n",
       "2385    2386  US-2017-117534  3/25/2017  3/26/2017     First Class   \n",
       "4421    4422  CA-2014-117016   3/4/2014   3/9/2014  Standard Class   \n",
       "6105    6106  CA-2015-147011  6/18/2015  6/22/2015  Standard Class   \n",
       "\n",
       "     Customer ID           Customer Name    Segment        Country  \n",
       "7237    EA-14035           Erin Ashbrook  Corporate  United States  \n",
       "8118    EB-13930            Eric Barreto   Consumer  United States  \n",
       "2385    CV-12295  Christina VanderZanden   Consumer  United States  \n",
       "4421    SC-20095            Sanjit Chand   Consumer  United States  \n",
       "6105    HR-14830             Harold Ryan  Corporate  United States  "
      ]
     },
     "metadata": {},
     "output_type": "display_data"
    },
    {
     "data": {
      "text/html": [
       "<div>\n",
       "<style scoped>\n",
       "    .dataframe tbody tr th:only-of-type {\n",
       "        vertical-align: middle;\n",
       "    }\n",
       "\n",
       "    .dataframe tbody tr th {\n",
       "        vertical-align: top;\n",
       "    }\n",
       "\n",
       "    .dataframe thead th {\n",
       "        text-align: right;\n",
       "    }\n",
       "</style>\n",
       "<table border=\"1\" class=\"dataframe\">\n",
       "  <thead>\n",
       "    <tr style=\"text-align: right;\">\n",
       "      <th></th>\n",
       "      <th>State</th>\n",
       "      <th>Postal Code</th>\n",
       "      <th>Region</th>\n",
       "      <th>Product ID</th>\n",
       "      <th>Category</th>\n",
       "      <th>Sub-Category</th>\n",
       "      <th>Product Name</th>\n",
       "      <th>Sales</th>\n",
       "      <th>Quantity</th>\n",
       "      <th>Discount</th>\n",
       "      <th>Profit</th>\n",
       "    </tr>\n",
       "  </thead>\n",
       "  <tbody>\n",
       "    <tr>\n",
       "      <th>8893</th>\n",
       "      <td>Texas</td>\n",
       "      <td>77590</td>\n",
       "      <td>Central</td>\n",
       "      <td>FUR-TA-10001307</td>\n",
       "      <td>Furniture</td>\n",
       "      <td>Tables</td>\n",
       "      <td>SAFCO PlanMaster Heigh-Adjustable Drafting Tab...</td>\n",
       "      <td>489.23</td>\n",
       "      <td>2</td>\n",
       "      <td>0.3</td>\n",
       "      <td>41.9340</td>\n",
       "    </tr>\n",
       "    <tr>\n",
       "      <th>2656</th>\n",
       "      <td>Utah</td>\n",
       "      <td>84604</td>\n",
       "      <td>West</td>\n",
       "      <td>OFF-ST-10001272</td>\n",
       "      <td>Office Supplies</td>\n",
       "      <td>Storage</td>\n",
       "      <td>Mini 13-1/2 Capacity Data Binder Rack, Pearl</td>\n",
       "      <td>261.74</td>\n",
       "      <td>2</td>\n",
       "      <td>0.0</td>\n",
       "      <td>65.4350</td>\n",
       "    </tr>\n",
       "    <tr>\n",
       "      <th>996</th>\n",
       "      <td>Kentucky</td>\n",
       "      <td>42420</td>\n",
       "      <td>South</td>\n",
       "      <td>OFF-EN-10003862</td>\n",
       "      <td>Office Supplies</td>\n",
       "      <td>Envelopes</td>\n",
       "      <td>Laser &amp; Ink Jet Business Envelopes</td>\n",
       "      <td>10.67</td>\n",
       "      <td>1</td>\n",
       "      <td>0.0</td>\n",
       "      <td>4.9082</td>\n",
       "    </tr>\n",
       "    <tr>\n",
       "      <th>5678</th>\n",
       "      <td>Michigan</td>\n",
       "      <td>49423</td>\n",
       "      <td>Central</td>\n",
       "      <td>OFF-FA-10000735</td>\n",
       "      <td>Office Supplies</td>\n",
       "      <td>Fasteners</td>\n",
       "      <td>Staples</td>\n",
       "      <td>20.44</td>\n",
       "      <td>7</td>\n",
       "      <td>0.0</td>\n",
       "      <td>9.1980</td>\n",
       "    </tr>\n",
       "    <tr>\n",
       "      <th>3051</th>\n",
       "      <td>Idaho</td>\n",
       "      <td>83642</td>\n",
       "      <td>West</td>\n",
       "      <td>OFF-AP-10004336</td>\n",
       "      <td>Office Supplies</td>\n",
       "      <td>Appliances</td>\n",
       "      <td>Conquest 14 Commercial Heavy-Duty Upright Vacu...</td>\n",
       "      <td>227.84</td>\n",
       "      <td>4</td>\n",
       "      <td>0.0</td>\n",
       "      <td>66.0736</td>\n",
       "    </tr>\n",
       "  </tbody>\n",
       "</table>\n",
       "</div>"
      ],
      "text/plain": [
       "         State  Postal Code   Region       Product ID         Category  \\\n",
       "8893     Texas        77590  Central  FUR-TA-10001307        Furniture   \n",
       "2656      Utah        84604     West  OFF-ST-10001272  Office Supplies   \n",
       "996   Kentucky        42420    South  OFF-EN-10003862  Office Supplies   \n",
       "5678  Michigan        49423  Central  OFF-FA-10000735  Office Supplies   \n",
       "3051     Idaho        83642     West  OFF-AP-10004336  Office Supplies   \n",
       "\n",
       "     Sub-Category                                       Product Name   Sales  \\\n",
       "8893       Tables  SAFCO PlanMaster Heigh-Adjustable Drafting Tab...  489.23   \n",
       "2656      Storage       Mini 13-1/2 Capacity Data Binder Rack, Pearl  261.74   \n",
       "996     Envelopes                 Laser & Ink Jet Business Envelopes   10.67   \n",
       "5678    Fasteners                                            Staples   20.44   \n",
       "3051   Appliances  Conquest 14 Commercial Heavy-Duty Upright Vacu...  227.84   \n",
       "\n",
       "      Quantity  Discount   Profit  \n",
       "8893         2       0.3  41.9340  \n",
       "2656         2       0.0  65.4350  \n",
       "996          1       0.0   4.9082  \n",
       "5678         7       0.0   9.1980  \n",
       "3051         4       0.0  66.0736  "
      ]
     },
     "metadata": {},
     "output_type": "display_data"
    }
   ],
   "source": [
    "display(df_clean.iloc[:,0:9].sample(5))\n",
    "display(df_clean.iloc[:,10:].sample(5))"
   ]
  },
  {
   "cell_type": "code",
   "execution_count": 5,
   "id": "a3dd53ea-35d0-4fe5-a5ac-b454e8a23458",
   "metadata": {},
   "outputs": [
    {
     "data": {
      "text/html": [
       "<div>\n",
       "<style scoped>\n",
       "    .dataframe tbody tr th:only-of-type {\n",
       "        vertical-align: middle;\n",
       "    }\n",
       "\n",
       "    .dataframe tbody tr th {\n",
       "        vertical-align: top;\n",
       "    }\n",
       "\n",
       "    .dataframe thead th {\n",
       "        text-align: right;\n",
       "    }\n",
       "</style>\n",
       "<table border=\"1\" class=\"dataframe\">\n",
       "  <thead>\n",
       "    <tr style=\"text-align: right;\">\n",
       "      <th></th>\n",
       "      <th>Row ID</th>\n",
       "      <th>Postal Code</th>\n",
       "      <th>Sales</th>\n",
       "      <th>Quantity</th>\n",
       "      <th>Discount</th>\n",
       "      <th>Profit</th>\n",
       "    </tr>\n",
       "  </thead>\n",
       "  <tbody>\n",
       "    <tr>\n",
       "      <th>count</th>\n",
       "      <td>9994.000000</td>\n",
       "      <td>9994.000000</td>\n",
       "      <td>9994.000000</td>\n",
       "      <td>9994.000000</td>\n",
       "      <td>9994.000000</td>\n",
       "      <td>9994.000000</td>\n",
       "    </tr>\n",
       "    <tr>\n",
       "      <th>mean</th>\n",
       "      <td>4997.500000</td>\n",
       "      <td>55190.379428</td>\n",
       "      <td>229.858001</td>\n",
       "      <td>3.789574</td>\n",
       "      <td>0.156203</td>\n",
       "      <td>28.656896</td>\n",
       "    </tr>\n",
       "    <tr>\n",
       "      <th>std</th>\n",
       "      <td>2885.163629</td>\n",
       "      <td>32063.693350</td>\n",
       "      <td>623.245101</td>\n",
       "      <td>2.225110</td>\n",
       "      <td>0.206452</td>\n",
       "      <td>234.260108</td>\n",
       "    </tr>\n",
       "    <tr>\n",
       "      <th>min</th>\n",
       "      <td>1.000000</td>\n",
       "      <td>1040.000000</td>\n",
       "      <td>0.444000</td>\n",
       "      <td>1.000000</td>\n",
       "      <td>0.000000</td>\n",
       "      <td>-6599.978000</td>\n",
       "    </tr>\n",
       "    <tr>\n",
       "      <th>25%</th>\n",
       "      <td>2499.250000</td>\n",
       "      <td>23223.000000</td>\n",
       "      <td>17.280000</td>\n",
       "      <td>2.000000</td>\n",
       "      <td>0.000000</td>\n",
       "      <td>1.728750</td>\n",
       "    </tr>\n",
       "    <tr>\n",
       "      <th>50%</th>\n",
       "      <td>4997.500000</td>\n",
       "      <td>56430.500000</td>\n",
       "      <td>54.490000</td>\n",
       "      <td>3.000000</td>\n",
       "      <td>0.200000</td>\n",
       "      <td>8.666500</td>\n",
       "    </tr>\n",
       "    <tr>\n",
       "      <th>75%</th>\n",
       "      <td>7495.750000</td>\n",
       "      <td>90008.000000</td>\n",
       "      <td>209.940000</td>\n",
       "      <td>5.000000</td>\n",
       "      <td>0.200000</td>\n",
       "      <td>29.364000</td>\n",
       "    </tr>\n",
       "    <tr>\n",
       "      <th>max</th>\n",
       "      <td>9994.000000</td>\n",
       "      <td>99301.000000</td>\n",
       "      <td>22638.480000</td>\n",
       "      <td>14.000000</td>\n",
       "      <td>0.800000</td>\n",
       "      <td>8399.976000</td>\n",
       "    </tr>\n",
       "  </tbody>\n",
       "</table>\n",
       "</div>"
      ],
      "text/plain": [
       "            Row ID   Postal Code         Sales     Quantity     Discount  \\\n",
       "count  9994.000000   9994.000000   9994.000000  9994.000000  9994.000000   \n",
       "mean   4997.500000  55190.379428    229.858001     3.789574     0.156203   \n",
       "std    2885.163629  32063.693350    623.245101     2.225110     0.206452   \n",
       "min       1.000000   1040.000000      0.444000     1.000000     0.000000   \n",
       "25%    2499.250000  23223.000000     17.280000     2.000000     0.000000   \n",
       "50%    4997.500000  56430.500000     54.490000     3.000000     0.200000   \n",
       "75%    7495.750000  90008.000000    209.940000     5.000000     0.200000   \n",
       "max    9994.000000  99301.000000  22638.480000    14.000000     0.800000   \n",
       "\n",
       "            Profit  \n",
       "count  9994.000000  \n",
       "mean     28.656896  \n",
       "std     234.260108  \n",
       "min   -6599.978000  \n",
       "25%       1.728750  \n",
       "50%       8.666500  \n",
       "75%      29.364000  \n",
       "max    8399.976000  "
      ]
     },
     "execution_count": 5,
     "metadata": {},
     "output_type": "execute_result"
    }
   ],
   "source": [
    "df_clean.describe()"
   ]
  },
  {
   "cell_type": "code",
   "execution_count": 6,
   "id": "17d95602-8e83-4971-a822-e087108acb81",
   "metadata": {},
   "outputs": [
    {
     "data": {
      "text/html": [
       "<div>\n",
       "<style scoped>\n",
       "    .dataframe tbody tr th:only-of-type {\n",
       "        vertical-align: middle;\n",
       "    }\n",
       "\n",
       "    .dataframe tbody tr th {\n",
       "        vertical-align: top;\n",
       "    }\n",
       "\n",
       "    .dataframe thead th {\n",
       "        text-align: right;\n",
       "    }\n",
       "</style>\n",
       "<table border=\"1\" class=\"dataframe\">\n",
       "  <thead>\n",
       "    <tr style=\"text-align: right;\">\n",
       "      <th></th>\n",
       "      <th>Order ID</th>\n",
       "      <th>Order Date</th>\n",
       "      <th>Ship Date</th>\n",
       "      <th>Ship Mode</th>\n",
       "      <th>Customer ID</th>\n",
       "      <th>Customer Name</th>\n",
       "      <th>Segment</th>\n",
       "      <th>Country</th>\n",
       "      <th>City</th>\n",
       "      <th>State</th>\n",
       "      <th>Region</th>\n",
       "      <th>Product ID</th>\n",
       "      <th>Category</th>\n",
       "      <th>Sub-Category</th>\n",
       "      <th>Product Name</th>\n",
       "    </tr>\n",
       "  </thead>\n",
       "  <tbody>\n",
       "    <tr>\n",
       "      <th>count</th>\n",
       "      <td>9994</td>\n",
       "      <td>9994</td>\n",
       "      <td>9994</td>\n",
       "      <td>9994</td>\n",
       "      <td>9994</td>\n",
       "      <td>9994</td>\n",
       "      <td>9994</td>\n",
       "      <td>9994</td>\n",
       "      <td>9994</td>\n",
       "      <td>9994</td>\n",
       "      <td>9994</td>\n",
       "      <td>9994</td>\n",
       "      <td>9994</td>\n",
       "      <td>9994</td>\n",
       "      <td>9994</td>\n",
       "    </tr>\n",
       "    <tr>\n",
       "      <th>unique</th>\n",
       "      <td>5009</td>\n",
       "      <td>1237</td>\n",
       "      <td>1334</td>\n",
       "      <td>4</td>\n",
       "      <td>793</td>\n",
       "      <td>793</td>\n",
       "      <td>3</td>\n",
       "      <td>1</td>\n",
       "      <td>531</td>\n",
       "      <td>49</td>\n",
       "      <td>4</td>\n",
       "      <td>1862</td>\n",
       "      <td>3</td>\n",
       "      <td>17</td>\n",
       "      <td>1850</td>\n",
       "    </tr>\n",
       "    <tr>\n",
       "      <th>top</th>\n",
       "      <td>CA-2017-100111</td>\n",
       "      <td>9/5/2016</td>\n",
       "      <td>12/16/2015</td>\n",
       "      <td>Standard Class</td>\n",
       "      <td>WB-21850</td>\n",
       "      <td>William Brown</td>\n",
       "      <td>Consumer</td>\n",
       "      <td>United States</td>\n",
       "      <td>New York City</td>\n",
       "      <td>California</td>\n",
       "      <td>West</td>\n",
       "      <td>OFF-PA-10001970</td>\n",
       "      <td>Office Supplies</td>\n",
       "      <td>Binders</td>\n",
       "      <td>Staple envelope</td>\n",
       "    </tr>\n",
       "    <tr>\n",
       "      <th>freq</th>\n",
       "      <td>14</td>\n",
       "      <td>38</td>\n",
       "      <td>35</td>\n",
       "      <td>5968</td>\n",
       "      <td>37</td>\n",
       "      <td>37</td>\n",
       "      <td>5191</td>\n",
       "      <td>9994</td>\n",
       "      <td>915</td>\n",
       "      <td>2001</td>\n",
       "      <td>3203</td>\n",
       "      <td>19</td>\n",
       "      <td>6026</td>\n",
       "      <td>1523</td>\n",
       "      <td>48</td>\n",
       "    </tr>\n",
       "  </tbody>\n",
       "</table>\n",
       "</div>"
      ],
      "text/plain": [
       "              Order ID Order Date   Ship Date       Ship Mode Customer ID  \\\n",
       "count             9994       9994        9994            9994        9994   \n",
       "unique            5009       1237        1334               4         793   \n",
       "top     CA-2017-100111   9/5/2016  12/16/2015  Standard Class    WB-21850   \n",
       "freq                14         38          35            5968          37   \n",
       "\n",
       "        Customer Name   Segment        Country           City       State  \\\n",
       "count            9994      9994           9994           9994        9994   \n",
       "unique            793         3              1            531          49   \n",
       "top     William Brown  Consumer  United States  New York City  California   \n",
       "freq               37      5191           9994            915        2001   \n",
       "\n",
       "       Region       Product ID         Category Sub-Category     Product Name  \n",
       "count    9994             9994             9994         9994             9994  \n",
       "unique      4             1862                3           17             1850  \n",
       "top      West  OFF-PA-10001970  Office Supplies      Binders  Staple envelope  \n",
       "freq     3203               19             6026         1523               48  "
      ]
     },
     "execution_count": 6,
     "metadata": {},
     "output_type": "execute_result"
    }
   ],
   "source": [
    "df_clean.describe(include='object')"
   ]
  },
  {
   "cell_type": "markdown",
   "id": "3bf60503-af21-49e8-8c31-27f35c99ddc4",
   "metadata": {},
   "source": [
    "### Observations from Data Exploration\n",
    "\n",
    "1. **Data Sampling:**\n",
    "   - Two separate random samples were displayed: one from columns 0 to 9 and another from column 10 onwards.\n",
    "   - This method allows for a quick overview of different sections of the dataset.\n",
    "\n",
    "2. **Summary Statistics (`df_clean.describe()`):**\n",
    "   - The dataset contains 9,994 entries.\n",
    "   - **Sales, Profit, and Discount:**\n",
    "     - Sales have a wide range, from a minimum of 0.44 to a maximum of 22,638.48.\n",
    "     - Profit values vary significantly, from -6,599.98 to 8,399.98, indicating potential losses and gains.\n",
    "     - Discounts range from 0 to 0.8, showing varying discount strategies.\n",
    "   - **Quantity Distribution:**\n",
    "     - The quantity per transaction varies from 1 to 14, with a median of 3.\n",
    "   - **Postal Code Analysis:**\n",
    "     - The mean postal code is around 55,190, with significant variation (std = 32,063), indicating geographic diversity in the data.\n",
    "\n",
    "3. **Categorical Data Summary:**\n",
    "   - The dataset includes categorical fields such as `Order ID`, `Customer ID`, `Product ID`, `Region`, `State`, `City`, `Category`, `Sub-Category`, and `Ship Mode`.\n",
    "   - Unique counts reveal that there are 5,009 distinct orders, suggesting repeat customers or multi-product orders.\n",
    "   - The presence of unique customer IDs implies customer-level tracking.\n",
    "\n",
    "4. **Potential Areas for Further Investigation:**\n",
    "   - The large standard deviation in profit suggests significant variability in product performance.\n",
    "   - The presence of negative profits needs further exploration—certain products or regions may be underperforming.\n",
    "   - Sales and discount correlation analysis could provide insights into pricing strategies.\n"
   ]
  },
  {
   "cell_type": "code",
   "execution_count": 7,
   "id": "adcc10e6-51d2-4d16-b1eb-71cac740e44d",
   "metadata": {},
   "outputs": [
    {
     "data": {
      "text/plain": [
       "Index(['Row ID', 'Order ID', 'Order Date', 'Ship Date', 'Ship Mode',\n",
       "       'Customer ID', 'Customer Name', 'Segment', 'Country', 'City', 'State',\n",
       "       'Postal Code', 'Region', 'Product ID', 'Category', 'Sub-Category',\n",
       "       'Product Name', 'Sales', 'Quantity', 'Discount', 'Profit'],\n",
       "      dtype='object')"
      ]
     },
     "execution_count": 7,
     "metadata": {},
     "output_type": "execute_result"
    }
   ],
   "source": [
    "df_clean.columns"
   ]
  },
  {
   "cell_type": "markdown",
   "id": "c75937ce-c97b-4a7e-837b-365fadbc0e45",
   "metadata": {},
   "source": [
    "### Data Validation Check  \n",
    "\n",
    "The values for the following transformations were verified to ensure correctness and consistency:  \n",
    "\n",
    "- **Row ID and Postal Code**: Converted to string format and confirmed to have no incorrect or missing values. Postal codes were checked to ensure they follow a uniform 5-digit format.  \n",
    "- **Order Date and Ship Date**: Successfully converted to datetime format, with no invalid or misformatted entries.  \n",
    "- **Categorical Columns**: Verified that 'Ship Mode', 'Segment', 'Country', 'Region', 'Category', and 'Sub-Category' contain only valid and expected values. No unexpected categories or misclassified data were found.  \n",
    "\n",
    "All transformations were validated, and the data is clean and ready for further analysis."
   ]
  },
  {
   "cell_type": "code",
   "execution_count": 8,
   "id": "bf6d5df2-9c63-4e6f-8328-11e9eff9f8a3",
   "metadata": {},
   "outputs": [
    {
     "data": {
      "text/plain": [
       "Sub-Category\n",
       "Bookcases      1\n",
       "Chairs         1\n",
       "Labels         1\n",
       "Tables         1\n",
       "Storage        1\n",
       "Furnishings    1\n",
       "Art            1\n",
       "Phones         1\n",
       "Binders        1\n",
       "Appliances     1\n",
       "Paper          1\n",
       "Accessories    1\n",
       "Envelopes      1\n",
       "Fasteners      1\n",
       "Supplies       1\n",
       "Machines       1\n",
       "Copiers        1\n",
       "Name: Category, dtype: int64"
      ]
     },
     "metadata": {},
     "output_type": "display_data"
    }
   ],
   "source": [
    "# Change numbers to strings\n",
    "df_clean[['Row ID', 'Postal Code']] = df_clean[['Row ID', 'Postal Code']].astype('str')\n",
    "\n",
    "# Fill the postal codes with leading zeros to ensure a uniform 5-digit format\n",
    "df_clean['Postal Code'] = df_clean['Postal Code'].str.zfill(5)\n",
    "\n",
    "# Convert date columns to datetime format\n",
    "df_clean[['Order Date', 'Ship Date']] = df_clean[['Order Date', 'Ship Date']].apply(pd.to_datetime)\n",
    "\n",
    "# Convert selected columns to categorical data types\n",
    "df_clean['Ship Mode'] = pd.Categorical(df_clean['Ship Mode'], categories=df_clean['Ship Mode'].unique(), ordered=False)\n",
    "df_clean['Segment'] = pd.Categorical(df_clean['Segment'], categories=df_clean['Segment'].unique(), ordered=False)\n",
    "df_clean['Country'] = pd.Categorical(df_clean['Country'], categories=['United States', 'International'], ordered=False)\n",
    "df_clean['State'] = pd.Categorical(df_clean['State'], categories=df_clean['State'].unique(), ordered=False)\n",
    "df_clean['Order ID'] = pd.Categorical(df_clean['Order ID'])  \n",
    "df_clean['Customer ID'] = pd.Categorical(df_clean['Customer ID'])  \n",
    "df_clean['Postal Code'] = pd.Categorical(df_clean['Postal Code'])  \n",
    "\n",
    "\n",
    "# Ensure 'Region' is stored as a categorical variable\n",
    "df_clean['Region'] = pd.Categorical(df_clean['Region'], categories=df_clean['Region'].unique(), ordered=False)\n",
    "\n",
    "# Convert 'Category' and 'Sub-Category' to categorical types\n",
    "df_clean['Category'] = pd.Categorical(df_clean['Category'], categories=df_clean['Category'].unique(), ordered=False)\n",
    "df_clean['Sub-Category'] = pd.Categorical(df_clean['Sub-Category'], categories=df_clean['Sub-Category'].unique(), ordered=False)\n",
    "\n",
    "# Check for one-to-one relationships between IDs or other key columns\n",
    "\n",
    "# Verify if each 'Sub-Category' belongs to only one 'Category'\n",
    "subcat_cat_count = df_clean.groupby('Sub-Category', observed=True)['Category'].nunique()  # Count unique categories for each sub-category\n",
    "display(subcat_cat_count)  # If any count is greater than 1, the sub-category appears in multiple categories"
   ]
  },
  {
   "cell_type": "markdown",
   "id": "dd144454-4713-4d58-bcfc-8d8a49f7556a",
   "metadata": {},
   "source": [
    "### Verification of 'Sub-Category' Consistency  \n",
    "\n",
    "A check was performed to ensure that each **'Sub-Category'** belongs to only one **'Category'**.  \n",
    "The analysis confirmed that no 'Sub-Category' appears in more than one 'Category'.  \n",
    "This validation ensures the data maintains a strict hierarchical relationship between categories and sub-categories."
   ]
  },
  {
   "cell_type": "markdown",
   "id": "0ee78db2-a1d7-41be-8533-cd5d673e456e",
   "metadata": {},
   "source": [
    "## Functions for Identifying and Updating Duplicate IDs\n",
    "\n",
    "### `dup_flag(df, id_col, value_col)`\n",
    "This function identifies whether an ID appears with multiple unique values in the specified column. It returns:\n",
    "- A boolean Series indicating which rows have duplicate IDs.\n",
    "- A DataFrame containing unique combinations of `id_col` and `value_col`.\n",
    "\n",
    "This is useful for detecting inconsistencies in datasets where each ID should ideally map to a single value.\n",
    "\n",
    "### `update_id(df, id_col, value_col)`\n",
    "This function appends a numerical suffix to duplicate IDs, ensuring uniqueness while maintaining traceability. It:\n",
    "- Calls `dup_flag()` to identify duplicates.\n",
    "- Assigns a numerical suffix to duplicate occurrences.\n",
    "- Updates the ID column by appending the suffix only for duplicates.\n",
    "- Merges the updated IDs back into the original DataFrame.\n",
    "\n",
    "This function helps standardize datasets by ensuring IDs remain unique while preserving their original structure.\n"
   ]
  },
  {
   "cell_type": "code",
   "execution_count": 9,
   "id": "a319bbc6-05b0-482e-8227-d36d59d8d01d",
   "metadata": {},
   "outputs": [],
   "source": [
    "def dup_flag(df, id_col, value_col):\n",
    "    \"\"\"\n",
    "    Identifies duplicate IDs based on their associated values.\n",
    "\n",
    "    Args:\n",
    "        df (pd.DataFrame): The input DataFrame.\n",
    "        id_col (str): Column containing IDs.\n",
    "        value_col (str): Column to check for uniqueness within each ID.\n",
    "\n",
    "    Returns:\n",
    "        dup_flags (pd.Series): Boolean Series indicating which rows have duplicate IDs.\n",
    "        unique_combinations (pd.DataFrame): DataFrame with unique (id_col, value_col) combinations.\n",
    "    \"\"\"\n",
    "    unique_combinations = df[[id_col, value_col]].drop_duplicates().copy()\n",
    "    dup_prod = df.groupby(id_col)[value_col].nunique()\n",
    "    dup_ids = dup_prod[dup_prod > 1].index.to_list()\n",
    "    dup_flags = df[id_col].isin(dup_ids)\n",
    "    return dup_flags, unique_combinations\n",
    "\n",
    "def update_id(df, id_col, value_col):\n",
    "    \"\"\"\n",
    "    Updates duplicate IDs by appending a numerical suffix.\n",
    "\n",
    "    Args:\n",
    "        df (pd.DataFrame): The input DataFrame.\n",
    "        id_col (str): Column containing IDs.\n",
    "        value_col (str): Column to check for uniqueness within each ID.\n",
    "\n",
    "    Returns:\n",
    "        pd.DataFrame: DataFrame with updated IDs and duplication flags.\n",
    "    \"\"\"\n",
    "    flags = dup_flag(df, id_col, value_col)\n",
    "    df[id_col + ' dup'] = flags[0]  # Boolean flag for duplicate IDs\n",
    "    suffixes = flags[1]  # DataFrame with unique ID-value combinations\n",
    "    suffixes[id_col + ' suffix'] = suffixes.groupby(id_col).cumcount() + 1  # Assign incremental suffix\n",
    "    new_col = id_col + ' updated'\n",
    "    suffixes[new_col] = suffixes[id_col].astype(str) + \"_\" + suffixes[id_col + ' suffix'].astype(str).str.zfill(2)\n",
    "    \n",
    "    # Drop redundant columns if they exist\n",
    "    df = df.drop(columns=[col for col in [id_col + ' suffix', new_col] if col in df.columns], axis=1)\n",
    "    \n",
    "    # Merge updated suffixes with original DataFrame\n",
    "    df_new = df.merge(suffixes, on=[id_col, value_col], how='left')\n",
    "    \n",
    "    # Keep original ID where no duplicates exist\n",
    "    df_new[new_col] = np.where(df_new[id_col + \" dup\"], df_new[new_col], df_new[id_col])\n",
    "\n",
    "    return df_new\n"
   ]
  },
  {
   "cell_type": "markdown",
   "id": "33c5045f-3899-4625-a512-46061b2a6234",
   "metadata": {},
   "source": [
    "### Handling Duplicate IDs  \n",
    "\n",
    "The focus was placed on the **Product ID**, where duplicate IDs were detected across different products. An updated ID was generated only for those products with duplicates, ensuring that necessary updates were applied efficiently.\n",
    "\n",
    "As for the **Customer ID**, after running `update_id(df_clean, 'Customer ID', 'Customer Name')`, the results showed that the **Customer ID** requires no modification."
   ]
  },
  {
   "cell_type": "code",
   "execution_count": 10,
   "id": "29478349-4776-48f9-af98-cf2ece57a21c",
   "metadata": {},
   "outputs": [],
   "source": [
    "df_clean=update_id(df_clean,'Product ID', 'Product Name')\n",
    "df_clean['Product ID updated'] = pd.Categorical(df_clean['Product ID updated'])  \n",
    "df_clean.drop(columns=['Product ID suffix'], inplace=True)"
   ]
  },
  {
   "cell_type": "code",
   "execution_count": 11,
   "id": "d37a9069-083e-4359-a778-ad3e58a0e646",
   "metadata": {},
   "outputs": [
    {
     "name": "stdout",
     "output_type": "stream",
     "text": [
      "<class 'pandas.core.frame.DataFrame'>\n",
      "RangeIndex: 9994 entries, 0 to 9993\n",
      "Data columns (total 23 columns):\n",
      " #   Column              Non-Null Count  Dtype         \n",
      "---  ------              --------------  -----         \n",
      " 0   Row ID              9994 non-null   object        \n",
      " 1   Order ID            9994 non-null   category      \n",
      " 2   Order Date          9994 non-null   datetime64[ns]\n",
      " 3   Ship Date           9994 non-null   datetime64[ns]\n",
      " 4   Ship Mode           9994 non-null   category      \n",
      " 5   Customer ID         9994 non-null   category      \n",
      " 6   Customer Name       9994 non-null   object        \n",
      " 7   Segment             9994 non-null   category      \n",
      " 8   Country             9994 non-null   category      \n",
      " 9   City                9994 non-null   object        \n",
      " 10  State               9994 non-null   category      \n",
      " 11  Postal Code         9994 non-null   category      \n",
      " 12  Region              9994 non-null   category      \n",
      " 13  Product ID          9994 non-null   object        \n",
      " 14  Category            9994 non-null   category      \n",
      " 15  Sub-Category        9994 non-null   category      \n",
      " 16  Product Name        9994 non-null   object        \n",
      " 17  Sales               9994 non-null   float64       \n",
      " 18  Quantity            9994 non-null   int64         \n",
      " 19  Discount            9994 non-null   float64       \n",
      " 20  Profit              9994 non-null   float64       \n",
      " 21  Product ID dup      9994 non-null   bool          \n",
      " 22  Product ID updated  9994 non-null   category      \n",
      "dtypes: bool(1), category(11), datetime64[ns](2), float64(3), int64(1), object(5)\n",
      "memory usage: 1.3+ MB\n"
     ]
    }
   ],
   "source": [
    "df_clean.info()"
   ]
  },
  {
   "cell_type": "code",
   "execution_count": 12,
   "id": "0b6cbdc1-4aa0-46bd-82f8-06fa1de055a1",
   "metadata": {},
   "outputs": [
    {
     "name": "stdout",
     "output_type": "stream",
     "text": [
      "Order Date Range:   2014-01-03  to  2017-12-30\n",
      " Ship Date Range:   2014-01-07  to  2018-01-05\n"
     ]
    }
   ],
   "source": [
    "# Check the Date Range\n",
    "min_order, max_order = df_clean['Order Date'].min(), df_clean['Order Date'].max()\n",
    "min_ship, max_ship = df_clean['Ship Date'].min(), df_clean['Ship Date'].max()\n",
    "\n",
    "print(f\"Order Date Range:   {min_order.strftime('%Y-%m-%d')}  to  {max_order.strftime('%Y-%m-%d')}\")\n",
    "print(f\" Ship Date Range:   { min_ship.strftime('%Y-%m-%d')}  to  {max_ship.strftime('%Y-%m-%d')}\")"
   ]
  },
  {
   "cell_type": "code",
   "execution_count": 13,
   "id": "0b699bdf-0ae9-4dbe-982f-ef1c3bfc866b",
   "metadata": {},
   "outputs": [
    {
     "name": "stdout",
     "output_type": "stream",
     "text": [
      "All shipping dates are valid. No orders were shipped before the order date.\n"
     ]
    }
   ],
   "source": [
    "# Check for Orders Shipped Before They Were Ordered\n",
    "df_invalid_dates = df_clean[df_clean['Ship Date'] < df_clean['Order Date']]\n",
    "\n",
    "if df_invalid_dates.empty:\n",
    "    print(\"All shipping dates are valid. No orders were shipped before the order date.\")\n",
    "else:\n",
    "    print(\"Orders with invalid shipping dates found:\")\n",
    "    print(df_invalid_dates)\n"
   ]
  },
  {
   "cell_type": "code",
   "execution_count": 14,
   "id": "0b0b14f5-4f22-40b2-937a-3762db58a960",
   "metadata": {},
   "outputs": [
    {
     "name": "stdout",
     "output_type": "stream",
     "text": [
      "\n",
      "📊 Shipping Duration Stats (in days):\n",
      "count    9994.000000\n",
      "mean        3.958175\n",
      "std         1.747567\n",
      "min         0.000000\n",
      "25%         3.000000\n",
      "50%         4.000000\n",
      "75%         5.000000\n",
      "max         7.000000\n",
      "Name: Shipping Duration, dtype: float64\n"
     ]
    }
   ],
   "source": [
    "#Check for Outliers (Extremely Long Shipping Times)\n",
    "df_clean['Shipping Duration'] = df_clean['Ship Date'] - df_clean['Order Date']\n",
    "print(\"\\n📊 Shipping Duration Stats (in days):\")\n",
    "print(df_clean['Shipping Duration'].dt.days.describe())"
   ]
  },
  {
   "cell_type": "code",
   "execution_count": 15,
   "id": "072cbd7e-d710-4c26-bc57-7f42ce7eba2e",
   "metadata": {},
   "outputs": [
    {
     "name": "stdout",
     "output_type": "stream",
     "text": [
      "<class 'pandas.core.frame.DataFrame'>\n",
      "RangeIndex: 9994 entries, 0 to 9993\n",
      "Data columns (total 24 columns):\n",
      " #   Column              Non-Null Count  Dtype          \n",
      "---  ------              --------------  -----          \n",
      " 0   Row ID              9994 non-null   object         \n",
      " 1   Order ID            9994 non-null   category       \n",
      " 2   Order Date          9994 non-null   datetime64[ns] \n",
      " 3   Ship Date           9994 non-null   datetime64[ns] \n",
      " 4   Ship Mode           9994 non-null   category       \n",
      " 5   Customer ID         9994 non-null   category       \n",
      " 6   Customer Name       9994 non-null   object         \n",
      " 7   Segment             9994 non-null   category       \n",
      " 8   Country             9994 non-null   category       \n",
      " 9   City                9994 non-null   object         \n",
      " 10  State               9994 non-null   category       \n",
      " 11  Postal Code         9994 non-null   category       \n",
      " 12  Region              9994 non-null   category       \n",
      " 13  Product ID          9994 non-null   object         \n",
      " 14  Category            9994 non-null   category       \n",
      " 15  Sub-Category        9994 non-null   category       \n",
      " 16  Product Name        9994 non-null   object         \n",
      " 17  Sales               9994 non-null   float64        \n",
      " 18  Quantity            9994 non-null   int64          \n",
      " 19  Discount            9994 non-null   float64        \n",
      " 20  Profit              9994 non-null   float64        \n",
      " 21  Product ID dup      9994 non-null   bool           \n",
      " 22  Product ID updated  9994 non-null   category       \n",
      " 23  Shipping Duration   9994 non-null   timedelta64[ns]\n",
      "dtypes: bool(1), category(11), datetime64[ns](2), float64(3), int64(1), object(5), timedelta64[ns](1)\n",
      "memory usage: 1.4+ MB\n"
     ]
    }
   ],
   "source": [
    "df_clean.info()"
   ]
  },
  {
   "cell_type": "code",
   "execution_count": 16,
   "id": "e687003e-a5cc-480b-a512-43aad7df467d",
   "metadata": {},
   "outputs": [
    {
     "name": "stdout",
     "output_type": "stream",
     "text": [
      "<class 'pandas.core.frame.DataFrame'>\n",
      "RangeIndex: 9994 entries, 0 to 9993\n",
      "Data columns (total 21 columns):\n",
      " #   Column         Non-Null Count  Dtype  \n",
      "---  ------         --------------  -----  \n",
      " 0   Row ID         9994 non-null   int64  \n",
      " 1   Order ID       9994 non-null   object \n",
      " 2   Order Date     9994 non-null   object \n",
      " 3   Ship Date      9994 non-null   object \n",
      " 4   Ship Mode      9994 non-null   object \n",
      " 5   Customer ID    9994 non-null   object \n",
      " 6   Customer Name  9994 non-null   object \n",
      " 7   Segment        9994 non-null   object \n",
      " 8   Country        9994 non-null   object \n",
      " 9   City           9994 non-null   object \n",
      " 10  State          9994 non-null   object \n",
      " 11  Postal Code    9994 non-null   int64  \n",
      " 12  Region         9994 non-null   object \n",
      " 13  Product ID     9994 non-null   object \n",
      " 14  Category       9994 non-null   object \n",
      " 15  Sub-Category   9994 non-null   object \n",
      " 16  Product Name   9994 non-null   object \n",
      " 17  Sales          9994 non-null   float64\n",
      " 18  Quantity       9994 non-null   int64  \n",
      " 19  Discount       9994 non-null   float64\n",
      " 20  Profit         9994 non-null   float64\n",
      "dtypes: float64(3), int64(3), object(15)\n",
      "memory usage: 1.6+ MB\n"
     ]
    }
   ],
   "source": [
    "df_raw.info()"
   ]
  },
  {
   "cell_type": "code",
   "execution_count": 20,
   "id": "90371f96-c1df-45b1-bf0c-0ea1f9cc8e98",
   "metadata": {},
   "outputs": [
    {
     "data": {
      "image/png": "[encoded data removed]",
      "text/plain": [
       "<Figure size 1000x600 with 1 Axes>"
      ]
     },
     "metadata": {},
     "output_type": "display_data"
    }
   ],
   "source": [
    "import matplotlib.pyplot as plt\n",
    "import seaborn as sns\n",
    "\n",
    "plt.figure(figsize=(10,6))\n",
    "sns.histplot(df_clean[\"Profit\"], bins=50, kde=True)\n",
    "plt.axvline(df_clean[\"Profit\"].mean(), color='red', linestyle='dashed', label='Mean')\n",
    "plt.xlabel(\"Profit\")\n",
    "plt.ylabel(\"Frequency\")\n",
    "plt.title(\"Profit Distribution\")\n",
    "plt.legend()\n",
    "plt.show()\n"
   ]
  },
  {
   "cell_type": "code",
   "execution_count": 21,
   "id": "1ec20348-3bc1-46b0-8264-4aa35cae3b8a",
   "metadata": {},
   "outputs": [
    {
     "data": {
      "image/png": "[encoded data removed]",
      "text/plain": [
       "<Figure size 800x500 with 1 Axes>"
      ]
     },
     "metadata": {},
     "output_type": "display_data"
    }
   ],
   "source": [
    "plt.figure(figsize=(8,5))\n",
    "sns.boxplot(x=df_clean[\"Profit\"])\n",
    "plt.title(\"Boxplot of Profit\")\n",
    "plt.show()\n"
   ]
  },
  {
   "cell_type": "code",
   "execution_count": 22,
   "id": "66719843-e558-4b53-9273-ce2b930c9ac0",
   "metadata": {},
   "outputs": [
    {
     "data": {
      "image/png": "[encoded data removed]",
      "text/plain": [
       "<Figure size 1000x800 with 4 Axes>"
      ]
     },
     "metadata": {},
     "output_type": "display_data"
    }
   ],
   "source": [
    "import seaborn as sns\n",
    "import matplotlib.pyplot as plt\n",
    "\n",
    "cols = ['Sales', 'Quantity', 'Discount', 'Profit']\n",
    "df_clean[cols].plot(kind='box', subplots=True, layout=(2,2), figsize=(10,8))\n",
    "plt.show()\n"
   ]
  },
  {
   "cell_type": "code",
   "execution_count": 27,
   "id": "fc356299-1bcf-4cbb-8c47-12b5b1a4353f",
   "metadata": {},
   "outputs": [
    {
     "data": {
      "text/html": [
       "<div>\n",
       "<style scoped>\n",
       "    .dataframe tbody tr th:only-of-type {\n",
       "        vertical-align: middle;\n",
       "    }\n",
       "\n",
       "    .dataframe tbody tr th {\n",
       "        vertical-align: top;\n",
       "    }\n",
       "\n",
       "    .dataframe thead th {\n",
       "        text-align: right;\n",
       "    }\n",
       "</style>\n",
       "<table border=\"1\" class=\"dataframe\">\n",
       "  <thead>\n",
       "    <tr style=\"text-align: right;\">\n",
       "      <th></th>\n",
       "      <th>Discount</th>\n",
       "      <th>Sales</th>\n",
       "    </tr>\n",
       "  </thead>\n",
       "  <tbody>\n",
       "    <tr>\n",
       "      <th>Discount</th>\n",
       "      <td>1.00000</td>\n",
       "      <td>-0.02819</td>\n",
       "    </tr>\n",
       "    <tr>\n",
       "      <th>Sales</th>\n",
       "      <td>-0.02819</td>\n",
       "      <td>1.00000</td>\n",
       "    </tr>\n",
       "  </tbody>\n",
       "</table>\n",
       "</div>"
      ],
      "text/plain": [
       "          Discount    Sales\n",
       "Discount   1.00000 -0.02819\n",
       "Sales     -0.02819  1.00000"
      ]
     },
     "metadata": {},
     "output_type": "display_data"
    },
    {
     "data": {
      "text/html": [
       "<div>\n",
       "<style scoped>\n",
       "    .dataframe tbody tr th:only-of-type {\n",
       "        vertical-align: middle;\n",
       "    }\n",
       "\n",
       "    .dataframe tbody tr th {\n",
       "        vertical-align: top;\n",
       "    }\n",
       "\n",
       "    .dataframe thead th {\n",
       "        text-align: right;\n",
       "    }\n",
       "</style>\n",
       "<table border=\"1\" class=\"dataframe\">\n",
       "  <thead>\n",
       "    <tr style=\"text-align: right;\">\n",
       "      <th></th>\n",
       "      <th>Discount</th>\n",
       "      <th>Profit</th>\n",
       "    </tr>\n",
       "  </thead>\n",
       "  <tbody>\n",
       "    <tr>\n",
       "      <th>Discount</th>\n",
       "      <td>1.000000</td>\n",
       "      <td>-0.219487</td>\n",
       "    </tr>\n",
       "    <tr>\n",
       "      <th>Profit</th>\n",
       "      <td>-0.219487</td>\n",
       "      <td>1.000000</td>\n",
       "    </tr>\n",
       "  </tbody>\n",
       "</table>\n",
       "</div>"
      ],
      "text/plain": [
       "          Discount    Profit\n",
       "Discount  1.000000 -0.219487\n",
       "Profit   -0.219487  1.000000"
      ]
     },
     "metadata": {},
     "output_type": "display_data"
    }
   ],
   "source": [
    "display(df_clean[['Discount', 'Sales']].corr())\n",
    "display(df_clean[[\"Discount\", \"Profit\"]].corr())\n"
   ]
  },
  {
   "cell_type": "code",
   "execution_count": 29,
   "id": "e74d8622-2dab-4ffa-8c74-0617a2d60c4f",
   "metadata": {},
   "outputs": [
    {
     "data": {
      "image/png": "[encoded data removed]",
      "text/plain": [
       "<Figure size 800x600 with 1 Axes>"
      ]
     },
     "metadata": {},
     "output_type": "display_data"
    }
   ],
   "source": [
    "import matplotlib.pyplot as plt\n",
    "import seaborn as sns\n",
    "\n",
    "# Create a color column where positive profit is blue and negative is red\n",
    "df_clean[\"Profit_Color\"] = df_clean[\"Profit\"].apply(lambda x: \"blue\" if x >= 0 else \"red\")\n",
    "\n",
    "plt.figure(figsize=(8,6))\n",
    "sns.scatterplot(x=df_clean[\"Discount\"], y=df_clean[\"Profit\"], alpha=0.5, \n",
    "                hue=df_clean[\"Profit\"] >= 0, palette={True: \"blue\", False: \"red\"}, legend=False)\n",
    "\n",
    "plt.xlabel(\"Discount\")\n",
    "plt.ylabel(\"Profit\")\n",
    "plt.title(\"Scatter Plot of Discount vs. Profit\")\n",
    "plt.show()\n",
    "\n"
   ]
  },
  {
   "cell_type": "code",
   "execution_count": 25,
   "id": "1014e911-56fa-469c-80a3-83023c4d6b74",
   "metadata": {},
   "outputs": [
    {
     "data": {
      "image/png": "[encoded data removed]",
      "text/plain": [
       "<Figure size 1000x500 with 1 Axes>"
      ]
     },
     "metadata": {},
     "output_type": "display_data"
    }
   ],
   "source": [
    "df_clean.groupby(\"Discount\")[\"Sales\"].mean().plot(kind=\"bar\", figsize=(10,5))\n",
    "plt.xlabel(\"Discount\")\n",
    "plt.ylabel(\"Average Sales\")\n",
    "plt.title(\"Average Sales per Discount Level\")\n",
    "plt.show()\n"
   ]
  },
  {
   "cell_type": "code",
   "execution_count": null,
   "id": "28b91018-12e3-4b73-a635-8d7eb80ff346",
   "metadata": {},
   "outputs": [],
   "source": []
  }
 ],
 "metadata": {
  "kernelspec": {
   "display_name": "Python 3 (ipykernel)",
   "language": "python",
   "name": "python3"
  },
  "language_info": {
   "codemirror_mode": {
    "name": "ipython",
    "version": 3
   },
   "file_extension": ".py",
   "mimetype": "text/x-python",
   "name": "python",
   "nbconvert_exporter": "python",
   "pygments_lexer": "ipython3",
   "version": "3.11.10"
  }
 },
 "nbformat": 4,
 "nbformat_minor": 5
}
